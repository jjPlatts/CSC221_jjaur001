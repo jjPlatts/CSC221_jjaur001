{
  "nbformat": 4,
  "nbformat_minor": 0,
  "metadata": {
    "colab": {
      "provenance": [],
      "authorship_tag": "ABX9TyMpdzmtttGDYyHdhOhayt2o",
      "include_colab_link": true
    },
    "kernelspec": {
      "name": "python3",
      "display_name": "Python 3"
    },
    "language_info": {
      "name": "python"
    }
  },
  "cells": [
    {
      "cell_type": "markdown",
      "metadata": {
        "id": "view-in-github",
        "colab_type": "text"
      },
      "source": [
        "<a href=\"https://colab.research.google.com/github/jjPlatts/CSC221_jjaur001/blob/main/Assignment1.ipynb\" target=\"_parent\"><img src=\"https://colab.research.google.com/assets/colab-badge.svg\" alt=\"Open In Colab\"/></a>"
      ]
    },
    {
      "cell_type": "code",
      "execution_count": null,
      "metadata": {
        "colab": {
          "base_uri": "https://localhost:8080/"
        },
        "id": "JkD89HS4mknR",
        "outputId": "404ad163-ad23-4207-adc7-df8e1347621c"
      },
      "outputs": [
        {
          "output_type": "stream",
          "name": "stdout",
          "text": [
            "this is the story all about how\n",
            "My life got flipped-turned upside down\n",
            "and I'd like to take a minute just sit right there, I'm gonna tell you about I became the prince of a town called Bel Air\n"
          ]
        }
      ],
      "source": [
        "#Whoop de doo\n",
        "print(\"this is the story all about how\")\n",
        "\n",
        "fancyText = input()\n",
        "\n",
        "print(\"and I'd like to take a minute just sit right there, I'm gonna tell you about I became the prince of a town called Bel Air\")"
      ]
    },
    {
      "cell_type": "code",
      "source": [],
      "metadata": {
        "id": "QonKSkyKmyG3"
      },
      "execution_count": null,
      "outputs": []
    }
  ]
}