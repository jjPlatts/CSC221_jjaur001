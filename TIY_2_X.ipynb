{
  "nbformat": 4,
  "nbformat_minor": 0,
  "metadata": {
    "colab": {
      "provenance": [],
      "authorship_tag": "ABX9TyMS/zID5zfhgJEm+IyYGZK9",
      "include_colab_link": true
    },
    "kernelspec": {
      "name": "python3",
      "display_name": "Python 3"
    },
    "language_info": {
      "name": "python"
    }
  },
  "cells": [
    {
      "cell_type": "markdown",
      "metadata": {
        "id": "view-in-github",
        "colab_type": "text"
      },
      "source": [
        "<a href=\"https://colab.research.google.com/github/jjPlatts/CSC221_jjaur001/blob/main/TIY_2_X.ipynb\" target=\"_parent\"><img src=\"https://colab.research.google.com/assets/colab-badge.svg\" alt=\"Open In Colab\"/></a>"
      ]
    },
    {
      "cell_type": "code",
      "execution_count": 1,
      "metadata": {
        "colab": {
          "base_uri": "https://localhost:8080/"
        },
        "id": "8Lm1tbaDWffh",
        "outputId": "7e5c3aec-b521-4dd2-a13f-e9fbd804a35f"
      },
      "outputs": [
        {
          "output_type": "stream",
          "name": "stdout",
          "text": [
            "Funny message\n",
            "Another funny message\n",
            "Dear Dr. Strange, This is a random message, nerd\n",
            "DR. STRANGE\n",
            "dr. strange\n",
            "Dr. Strange\n",
            "Dr. Strange's famous quote is \"Dormammu, I've come to bargain\"\n",
            "Jason\n",
            "python_notes.txt\n",
            "8\n",
            "8\n",
            "8\n",
            "8.0\n",
            "this person has a favorite number, it is 99\n"
          ]
        }
      ],
      "source": [
        "#2-1 & 2-2\n",
        "x = 'Funny message'\n",
        "print(x)\n",
        "x = 'Another funny message'\n",
        "print(x)\n",
        "\n",
        "#2-3, 2-4. 2-5 + 2-6?, 2-7, 2-8\n",
        "nameOfPerson = 'Dr. Strange'\n",
        "msg = f'Dear {nameOfPerson}, This is a random message, nerd'\n",
        "print(msg)\n",
        "print(nameOfPerson.upper())\n",
        "print(nameOfPerson.lower())\n",
        "print(nameOfPerson.title())\n",
        "\n",
        "drStrangeMsg = f'{nameOfPerson}\\'s famous quote is \"Dormammu, I\\'ve come to bargain\"'\n",
        "\n",
        "print(drStrangeMsg)\n",
        "\n",
        "jasonName = '\\n\\tJason\\n'\n",
        "print(jasonName.strip())\n",
        "\n",
        "\n",
        "filename = 'python_notes.txt'\n",
        "filename.removesuffix('.txt')\n",
        "print(filename)\n",
        "\n",
        "#2-9, 2-10\n",
        "\n",
        "print(7+1)\n",
        "print(888-880)\n",
        "print(2*4)\n",
        "print(64/8)\n",
        "\n",
        "favNum = 99\n",
        "\n",
        "print(f'this person has a favorite number, it is {favNum}')\n"
      ]
    }
  ]
}