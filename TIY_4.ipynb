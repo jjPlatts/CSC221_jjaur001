{
  "nbformat": 4,
  "nbformat_minor": 0,
  "metadata": {
    "colab": {
      "provenance": [],
      "authorship_tag": "ABX9TyMLUOSC8O2U6BEUywphNeJh",
      "include_colab_link": true
    },
    "kernelspec": {
      "name": "python3",
      "display_name": "Python 3"
    },
    "language_info": {
      "name": "python"
    }
  },
  "cells": [
    {
      "cell_type": "markdown",
      "metadata": {
        "id": "view-in-github",
        "colab_type": "text"
      },
      "source": [
        "<a href=\"https://colab.research.google.com/github/jjPlatts/CSC221_jjaur001/blob/main/TIY_4.ipynb\" target=\"_parent\"><img src=\"https://colab.research.google.com/assets/colab-badge.svg\" alt=\"Open In Colab\"/></a>"
      ]
    },
    {
      "cell_type": "code",
      "execution_count": null,
      "metadata": {
        "id": "pcKckhDV_g9-"
      },
      "outputs": [],
      "source": [
        "pizzaPie = ['Cheese', 'Pepperoni', 'Chic \\'N\\' Stu']\n",
        "for pizza in pizzaPie:\n",
        "    print(f'I LOVE {pizza}')\n",
        "print('I FREAKING LOVE PIZZA')\n",
        "\n",
        "#4-2 feels like the same statement as 4-1\n",
        "\n",
        "for terracotta in range(1, 21):\n",
        "    print(terracotta)\n",
        "\n",
        "#for yuuuyfii in range(1, 10000001):\n",
        "    #print(yuuuyfii)\n",
        "\n",
        "slipknot = list(range(1, 1000000))\n",
        "min(slipknot)\n",
        "max(slipknot)\n",
        "sum(slipknot)\n"
      ]
    }
  ]
}