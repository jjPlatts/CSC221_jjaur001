{
  "nbformat": 4,
  "nbformat_minor": 0,
  "metadata": {
    "colab": {
      "provenance": [],
      "authorship_tag": "ABX9TyNhnjnDT0nY6sJhJD+hzAwy",
      "include_colab_link": true
    },
    "kernelspec": {
      "name": "python3",
      "display_name": "Python 3"
    },
    "language_info": {
      "name": "python"
    }
  },
  "cells": [
    {
      "cell_type": "markdown",
      "metadata": {
        "id": "view-in-github",
        "colab_type": "text"
      },
      "source": [
        "<a href=\"https://colab.research.google.com/github/jjPlatts/CSC221_jjaur001/blob/main/TIY_3.ipynb\" target=\"_parent\"><img src=\"https://colab.research.google.com/assets/colab-badge.svg\" alt=\"Open In Colab\"/></a>"
      ]
    },
    {
      "cell_type": "code",
      "execution_count": 1,
      "metadata": {
        "colab": {
          "base_uri": "https://localhost:8080/"
        },
        "id": "53ErVxFGR-hU",
        "outputId": "e896c4ae-8081-4dad-b8cc-477d7cc581be"
      },
      "outputs": [
        {
          "output_type": "stream",
          "name": "stdout",
          "text": [
            "Serj\n",
            "Eddie\n",
            "Rivers\n",
            "Beck\n",
            "Greetings Serj\n",
            " I love driving my Corolla, it really makes me feel like I can drive anything, such as a Google Car\n",
            "Welcome Mom, do you wish to join me for dinner?\n",
            "Nice to see you Dad, do you wish to join me for dinner?\n",
            "Lovely day, isn't it Grandma? Do you wish to join me for dinner?\n",
            "Good to see you Grandpa Joe, do you wish to join me for dinner?\n",
            "Hey Cousin Steve, do you wish to join me for dinner?\n",
            "Oh no, Mom couldn't make it!\n",
            "Welcome Aunt Jemima, do you wish to join me for dinner?\n",
            "Nice to see you Dad, do you wish to join me for dinner?\n",
            "Lovely day, isn't it Grandma? Do you wish to join me for dinner?\n",
            "Good to see you Grandpa Joe, do you wish to join me for dinner?\n",
            "Hey Cousin Steve, do you wish to join me for dinner?\n",
            "Attention everyone, I found a bigger table\n",
            "Hey there, Grandpa Joe, do you wish to join me for dinner?\n",
            "Howdy, Cousin Steve, do you wish to join me for dinner?\n",
            "Hello Bob, I know what you did back in '99...anyways, do you wish to join me for dinner?\n",
            "Sadly, I can only invite two people to this dinner\n",
            "Sorry Aunt Jemima, I will see you soon\n",
            "Sorry Dad, I will see you soon\n",
            "Sorry Grandma, I will see you soon\n",
            "Sorry Cousin Reid, I will see you soon\n",
            "Sorry Grandpa Joe, I will see you soon\n",
            "Sorry Cousin Steve, I will see you soon\n",
            "Do not worry Cousin Steve and Bob, you are still invited\n",
            "[]\n",
            "['Egypt', 'Saudi Arabia', 'Pakistan', 'Iran', 'France']\n",
            "['Egypt', 'France', 'Iran', 'Pakistan', 'Saudi Arabia']\n",
            "['Saudi Arabia', 'Pakistan', 'Iran', 'France', 'Egypt']\n",
            "['Egypt', 'Saudi Arabia', 'Pakistan', 'Iran', 'France']\n",
            "['France', 'Iran', 'Pakistan', 'Saudi Arabia', 'Egypt']\n",
            "['Egypt', 'Saudi Arabia', 'Pakistan', 'Iran', 'France']\n",
            "['Egypt', 'France', 'Iran', 'Pakistan', 'Saudi Arabia']\n",
            "['Saudi Arabia', 'Pakistan', 'Iran', 'France', 'Egypt']\n"
          ]
        }
      ],
      "source": [
        "#3-1, 3-2, 3-3\n",
        "namesList = ['Serj', 'Eddie', 'Rivers', 'Beck']\n",
        "print(namesList[0])\n",
        "print(namesList[1])\n",
        "print(namesList[2])\n",
        "print(namesList[3])\n",
        "\n",
        "print(f'Greetings {namesList[0]}')\n",
        "\n",
        "\n",
        "vehicleList = ['Corolla', 'F150', 'Audi R8', 'Kia Soul', 'Saturn Ion', 'Peterbilt', 'Google Car', 'Tesla Model Y']\n",
        "\n",
        "print(f' I love driving my {vehicleList[0]}, it really makes me feel like I can drive anything, such as a {vehicleList[6]}')\n",
        "\n",
        "#3-4 - 3-7\n",
        "guestList = ['Mom', 'Dad', 'Grandma', 'Grandpa Joe', 'Cousin Steve']\n",
        "\n",
        "print(f'Welcome {guestList[0]}, do you wish to join me for dinner?')\n",
        "print(f'Nice to see you {guestList[1]}, do you wish to join me for dinner?')\n",
        "print(f'Lovely day, isn\\'t it {guestList[2]}? Do you wish to join me for dinner?')\n",
        "print(f'Good to see you {guestList[3]}, do you wish to join me for dinner?')\n",
        "print(f'Hey {guestList[4]}, do you wish to join me for dinner?')\n",
        "\n",
        "print(f'Oh no, {guestList[0]} couldn\\'t make it!')\n",
        "\n",
        "del guestList[0]\n",
        "guestList.insert(0, 'Aunt Jemima')\n",
        "\n",
        "\n",
        "print(f'Welcome {guestList[0]}, do you wish to join me for dinner?')\n",
        "print(f'Nice to see you {guestList[1]}, do you wish to join me for dinner?')\n",
        "print(f'Lovely day, isn\\'t it {guestList[2]}? Do you wish to join me for dinner?')\n",
        "print(f'Good to see you {guestList[3]}, do you wish to join me for dinner?')\n",
        "print(f'Hey {guestList[4]}, do you wish to join me for dinner?')\n",
        "\n",
        "print('Attention everyone, I found a bigger table')\n",
        "\n",
        "guestList.insert(0, 'Cousin Zander')\n",
        "guestList.insert(4, 'Cousin Reid')\n",
        "guestList.append('Bob')\n",
        "\n",
        "print(f'Hey there, {guestList[5]}, do you wish to join me for dinner?')\n",
        "print(f'Howdy, {guestList[6]}, do you wish to join me for dinner?')\n",
        "print(f'Hello {guestList[7]}, I know what you did back in \\'99...anyways, do you wish to join me for dinner?')\n",
        "\n",
        "print(\"Sadly, I can only invite two people to this dinner\")\n",
        "\n",
        "guestList0Pop = guestList.pop(0)\n",
        "print(f'Sorry {guestList[0]}, I will see you soon')\n",
        "\n",
        "guestList0Pop = guestList.pop(0)\n",
        "print(f'Sorry {guestList[0]}, I will see you soon')\n",
        "\n",
        "guestList0Pop = guestList.pop(0)\n",
        "print(f'Sorry {guestList[0]}, I will see you soon')\n",
        "\n",
        "guestList0Pop = guestList.pop(0)\n",
        "print(f'Sorry {guestList[0]}, I will see you soon')\n",
        "\n",
        "guestList0Pop = guestList.pop(0)\n",
        "print(f'Sorry {guestList[0]}, I will see you soon')\n",
        "\n",
        "guestList0Pop = guestList.pop(0)\n",
        "print(f'Sorry {guestList[0]}, I will see you soon')\n",
        "\n",
        "print(f'Do not worry {guestList[0]} and {guestList[1]}, you are still invited')\n",
        "\n",
        "del guestList[0]\n",
        "del guestList[0]\n",
        "\n",
        "print(guestList)\n",
        "\n",
        "#3-8 - 3-10\n",
        "favoritePlaces = ['Egypt', 'Saudi Arabia', 'Pakistan', 'Iran', 'France']\n",
        "print(favoritePlaces)\n",
        "print(sorted(favoritePlaces))\n",
        "print(sorted(favoritePlaces, reverse = True))\n",
        "print(favoritePlaces)\n",
        "favoritePlaces.reverse()\n",
        "print(favoritePlaces)\n",
        "favoritePlaces.reverse()\n",
        "print(favoritePlaces)\n",
        "favoritePlaces.sort()\n",
        "print(favoritePlaces)\n",
        "favoritePlaces.sort(reverse = True)\n",
        "print(favoritePlaces)\n"
      ]
    },
    {
      "cell_type": "code",
      "source": [],
      "metadata": {
        "id": "tK03dqhVSDbg"
      },
      "execution_count": null,
      "outputs": []
    }
  ]
}