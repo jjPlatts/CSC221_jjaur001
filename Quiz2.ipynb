{
  "nbformat": 4,
  "nbformat_minor": 0,
  "metadata": {
    "colab": {
      "provenance": [],
      "authorship_tag": "ABX9TyMBCNzYpHOht54+moiKFVpw",
      "include_colab_link": true
    },
    "kernelspec": {
      "name": "python3",
      "display_name": "Python 3"
    },
    "language_info": {
      "name": "python"
    }
  },
  "cells": [
    {
      "cell_type": "markdown",
      "metadata": {
        "id": "view-in-github",
        "colab_type": "text"
      },
      "source": [
        "<a href=\"https://colab.research.google.com/github/jjPlatts/CSC221_jjaur001/blob/main/Quiz2.ipynb\" target=\"_parent\"><img src=\"https://colab.research.google.com/assets/colab-badge.svg\" alt=\"Open In Colab\"/></a>"
      ]
    },
    {
      "cell_type": "code",
      "execution_count": null,
      "metadata": {
        "id": "dv5Np02fm_d9",
        "colab": {
          "base_uri": "https://localhost:8080/"
        },
        "outputId": "c120a203-48a0-419a-cfce-6a7370da84e6"
      },
      "outputs": [
        {
          "output_type": "stream",
          "name": "stdout",
          "text": [
            "None\n"
          ]
        }
      ],
      "source": [
        "x = None\n",
        "print(x)\n",
        "#None is a null value"
      ]
    },
    {
      "cell_type": "code",
      "source": [
        "x = 3\n",
        "print(bool(x))\n",
        "#X is assigned a value, therefore it is true to that value"
      ],
      "metadata": {
        "colab": {
          "base_uri": "https://localhost:8080/"
        },
        "id": "M58uU4nFGwnU",
        "outputId": "dbe83a7f-5b41-4848-b413-2f82346de47a"
      },
      "execution_count": null,
      "outputs": [
        {
          "output_type": "stream",
          "name": "stdout",
          "text": [
            "True\n"
          ]
        }
      ]
    },
    {
      "cell_type": "code",
      "source": [
        "class TheBestClass():\n",
        "  def __len__(self):\n",
        "    return 0\n",
        "\n",
        "ClassOBJ = TheBestClass()\n",
        "print(bool(ClassOBJ))\n",
        "#ClassOBJ is False"
      ],
      "metadata": {
        "colab": {
          "base_uri": "https://localhost:8080/"
        },
        "id": "pvzpDX9WHag3",
        "outputId": "e09f5e0f-4db6-4170-b6c1-391c83aa95b0"
      },
      "execution_count": null,
      "outputs": [
        {
          "output_type": "stream",
          "name": "stdout",
          "text": [
            "False\n"
          ]
        }
      ]
    },
    {
      "cell_type": "code",
      "source": [
        "x = 10\n",
        "if x > 5 and x < 20:\n",
        "  print('x is in between 5 and 20')\n",
        "#and is used to add another condition to a function, it is a logic operator"
      ],
      "metadata": {
        "colab": {
          "base_uri": "https://localhost:8080/"
        },
        "id": "fExoaf2RIGGX",
        "outputId": "1c1b62ac-48e3-46a5-e3e2-872bb2eabcc7"
      },
      "execution_count": null,
      "outputs": [
        {
          "output_type": "stream",
          "name": "stdout",
          "text": [
            "x is in between 5 and 20\n"
          ]
        }
      ]
    },
    {
      "cell_type": "code",
      "source": [
        "import file.txt as file\n",
        "#as is used to create an alias for files, functions, and even variables"
      ],
      "metadata": {
        "colab": {
          "base_uri": "https://localhost:8080/",
          "height": 314
        },
        "id": "PtvOLsWQIesM",
        "outputId": "32f11772-a28b-4d56-c3d6-5514d0056615"
      },
      "execution_count": null,
      "outputs": [
        {
          "output_type": "error",
          "ename": "ModuleNotFoundError",
          "evalue": "No module named 'file'",
          "traceback": [
            "\u001b[0;31m---------------------------------------------------------------------------\u001b[0m",
            "\u001b[0;31mModuleNotFoundError\u001b[0m                       Traceback (most recent call last)",
            "\u001b[0;32m<ipython-input-13-f01e20b94ca4>\u001b[0m in \u001b[0;36m<cell line: 1>\u001b[0;34m()\u001b[0m\n\u001b[0;32m----> 1\u001b[0;31m \u001b[0;32mimport\u001b[0m \u001b[0mfile\u001b[0m\u001b[0;34m.\u001b[0m\u001b[0mtxt\u001b[0m \u001b[0;32mas\u001b[0m \u001b[0mfile\u001b[0m\u001b[0;34m\u001b[0m\u001b[0;34m\u001b[0m\u001b[0m\n\u001b[0m",
            "\u001b[0;31mModuleNotFoundError\u001b[0m: No module named 'file'",
            "",
            "\u001b[0;31m---------------------------------------------------------------------------\u001b[0;32m\nNOTE: If your import is failing due to a missing package, you can\nmanually install dependencies using either !pip or !apt.\n\nTo view examples of installing some common dependencies, click the\n\"Open Examples\" button below.\n\u001b[0;31m---------------------------------------------------------------------------\u001b[0m\n"
          ],
          "errorDetails": {
            "actions": [
              {
                "action": "open_url",
                "actionText": "Open Examples",
                "url": "/notebooks/snippets/importing_libraries.ipynb"
              }
            ]
          }
        }
      ]
    },
    {
      "cell_type": "code",
      "source": [
        "x = \"Ned\"\n",
        "\n",
        "assert x == \"Lecky\"\n",
        "\n",
        "assert x == \"Not so Lecky\"\n",
        "#assert is used to test code and gives an assertion error when the code returns false"
      ],
      "metadata": {
        "colab": {
          "base_uri": "https://localhost:8080/",
          "height": 211
        },
        "id": "i24lVURxIv4R",
        "outputId": "0bb4f823-28eb-4dcc-e6bb-4614927afae4"
      },
      "execution_count": null,
      "outputs": [
        {
          "output_type": "error",
          "ename": "AssertionError",
          "evalue": "",
          "traceback": [
            "\u001b[0;31m---------------------------------------------------------------------------\u001b[0m",
            "\u001b[0;31mAssertionError\u001b[0m                            Traceback (most recent call last)",
            "\u001b[0;32m<ipython-input-18-256770957923>\u001b[0m in \u001b[0;36m<cell line: 3>\u001b[0;34m()\u001b[0m\n\u001b[1;32m      1\u001b[0m \u001b[0mx\u001b[0m \u001b[0;34m=\u001b[0m \u001b[0;34m\"Ned\"\u001b[0m\u001b[0;34m\u001b[0m\u001b[0;34m\u001b[0m\u001b[0m\n\u001b[1;32m      2\u001b[0m \u001b[0;34m\u001b[0m\u001b[0m\n\u001b[0;32m----> 3\u001b[0;31m \u001b[0;32massert\u001b[0m \u001b[0mx\u001b[0m \u001b[0;34m==\u001b[0m \u001b[0;34m\"Lecky\"\u001b[0m\u001b[0;34m\u001b[0m\u001b[0;34m\u001b[0m\u001b[0m\n\u001b[0m\u001b[1;32m      4\u001b[0m \u001b[0;34m\u001b[0m\u001b[0m\n\u001b[1;32m      5\u001b[0m \u001b[0;32massert\u001b[0m \u001b[0mx\u001b[0m \u001b[0;34m==\u001b[0m \u001b[0;34m\"Not so Lecky\"\u001b[0m\u001b[0;34m\u001b[0m\u001b[0;34m\u001b[0m\u001b[0m\n",
            "\u001b[0;31mAssertionError\u001b[0m: "
          ]
        }
      ]
    },
    {
      "cell_type": "code",
      "source": [
        "for i in range(1000):\n",
        "  print(i + 1)\n",
        "  if i > 8:\n",
        "    break\n",
        "#break is used to...almost literally break a loop and stop it"
      ],
      "metadata": {
        "colab": {
          "base_uri": "https://localhost:8080/"
        },
        "id": "X-r80fIkJY0q",
        "outputId": "b4ca869a-d804-4d81-ae05-6e509329be9c"
      },
      "execution_count": null,
      "outputs": [
        {
          "output_type": "stream",
          "name": "stdout",
          "text": [
            "1\n",
            "2\n",
            "3\n",
            "4\n",
            "5\n",
            "6\n",
            "7\n",
            "8\n",
            "9\n",
            "10\n"
          ]
        }
      ]
    },
    {
      "cell_type": "code",
      "source": [
        "for i in range(10):\n",
        "  print(i + 1)\n",
        "  if i > 8:\n",
        "    continue\n",
        "  print(i)\n",
        "  #continue goes to the next iteration of the loop, as opposed to break which will end the loop completely"
      ],
      "metadata": {
        "colab": {
          "base_uri": "https://localhost:8080/"
        },
        "id": "hXEKrTJ5L0Wx",
        "outputId": "738a9456-96e6-4aa2-d8af-d3e3ac507823"
      },
      "execution_count": null,
      "outputs": [
        {
          "output_type": "stream",
          "name": "stdout",
          "text": [
            "1\n",
            "0\n",
            "2\n",
            "1\n",
            "3\n",
            "2\n",
            "4\n",
            "3\n",
            "5\n",
            "4\n",
            "6\n",
            "5\n",
            "7\n",
            "6\n",
            "8\n",
            "7\n",
            "9\n",
            "8\n",
            "10\n"
          ]
        }
      ]
    },
    {
      "cell_type": "code",
      "source": [
        "class TheBestClass():\n",
        "  def __init__(self):\n",
        "    i = 30\n",
        "#class is used for creating an object in python"
      ],
      "metadata": {
        "id": "jxBL72RAMfxD"
      },
      "execution_count": null,
      "outputs": []
    },
    {
      "cell_type": "code",
      "source": [
        "def __init__(self):\n",
        "  print(self)\n",
        "\n",
        "__init__(30)\n",
        "#def is for creating functions in python, which can then be called by the function name followed by parenthesis"
      ],
      "metadata": {
        "colab": {
          "base_uri": "https://localhost:8080/"
        },
        "id": "QbZhAAMZM4nd",
        "outputId": "78c7d889-531b-4390-9d67-9c57a5ab6884"
      },
      "execution_count": null,
      "outputs": [
        {
          "output_type": "stream",
          "name": "stdout",
          "text": [
            "30\n"
          ]
        }
      ]
    },
    {
      "cell_type": "code",
      "source": [
        "x = 3\n",
        "if x == 5:\n",
        "  print('x is 5')\n",
        "elif x == 4:\n",
        "  print('x is 4')\n",
        "else:\n",
        "  print('x is stupid')\n",
        "#elif is a combination of if and else, it will take arguments like an if statement and can be placed after an if statement if that if statement is ever false"
      ],
      "metadata": {
        "colab": {
          "base_uri": "https://localhost:8080/"
        },
        "id": "0qOaJG9kM8Is",
        "outputId": "a74d2992-a714-405c-8a4d-92501e8075b5"
      },
      "execution_count": null,
      "outputs": [
        {
          "output_type": "stream",
          "name": "stdout",
          "text": [
            "x is stupid\n"
          ]
        }
      ]
    },
    {
      "cell_type": "code",
      "source": [
        "class BigJobber:\n",
        "  Jobber = 'Jawbreaker'\n",
        "\n",
        "del BigJobber\n",
        "\n",
        "print(BigJobber)\n",
        "\n",
        "#del is used to delete stuff"
      ],
      "metadata": {
        "colab": {
          "base_uri": "https://localhost:8080/",
          "height": 176
        },
        "id": "82Giw6fBN-X9",
        "outputId": "3d235f54-d057-4977-acf5-fe47a3799a5f"
      },
      "execution_count": null,
      "outputs": [
        {
          "output_type": "error",
          "ename": "NameError",
          "evalue": "name 'BigJobber' is not defined",
          "traceback": [
            "\u001b[0;31m---------------------------------------------------------------------------\u001b[0m",
            "\u001b[0;31mNameError\u001b[0m                                 Traceback (most recent call last)",
            "\u001b[0;32m<ipython-input-39-b9645d281de7>\u001b[0m in \u001b[0;36m<cell line: 6>\u001b[0;34m()\u001b[0m\n\u001b[1;32m      4\u001b[0m \u001b[0;32mdel\u001b[0m \u001b[0mBigJobber\u001b[0m\u001b[0;34m\u001b[0m\u001b[0;34m\u001b[0m\u001b[0m\n\u001b[1;32m      5\u001b[0m \u001b[0;34m\u001b[0m\u001b[0m\n\u001b[0;32m----> 6\u001b[0;31m \u001b[0mprint\u001b[0m\u001b[0;34m(\u001b[0m\u001b[0mBigJobber\u001b[0m\u001b[0;34m)\u001b[0m\u001b[0;34m\u001b[0m\u001b[0;34m\u001b[0m\u001b[0m\n\u001b[0m",
            "\u001b[0;31mNameError\u001b[0m: name 'BigJobber' is not defined"
          ]
        }
      ]
    },
    {
      "cell_type": "markdown",
      "source": [],
      "metadata": {
        "id": "RgMMadsNP83G"
      }
    },
    {
      "cell_type": "code",
      "source": [
        "try:\n",
        "  print(y)\n",
        "except:\n",
        "  print(\"y is not defined\")\n",
        "#Except is used in conjuction with try in order to handle errors if the try function returns an invalid result"
      ],
      "metadata": {
        "colab": {
          "base_uri": "https://localhost:8080/"
        },
        "id": "2vbc9yfsOtV3",
        "outputId": "3e0973a5-3991-4902-80bb-4339d9ae417a"
      },
      "execution_count": null,
      "outputs": [
        {
          "output_type": "stream",
          "name": "stdout",
          "text": [
            "y is not defined\n"
          ]
        }
      ]
    },
    {
      "cell_type": "code",
      "source": [
        "y = 10\n",
        "if y != 10:\n",
        "  print('y is not 10')\n",
        "else:\n",
        "  print('y is 10')\n",
        "#else is used after an if statement when the if statement cannot return a result"
      ],
      "metadata": {
        "colab": {
          "base_uri": "https://localhost:8080/"
        },
        "id": "mrgB-EGXQEqv",
        "outputId": "0f75a08f-6c97-4f94-bfb5-a292c9e6be1d"
      },
      "execution_count": null,
      "outputs": [
        {
          "output_type": "stream",
          "name": "stdout",
          "text": [
            "y is 10\n"
          ]
        }
      ]
    },
    {
      "cell_type": "code",
      "source": [
        "for z in 'abcdefghijklmnopqrstuvwxyz':\n",
        "  print(z)\n",
        "#for creates a loop by assigning a variable to another varible and carries out a function based on the sequence of the variable"
      ],
      "metadata": {
        "colab": {
          "base_uri": "https://localhost:8080/"
        },
        "id": "m9K4HFdwRMLq",
        "outputId": "74bfa30b-037a-4579-ab7d-854b93a5f598"
      },
      "execution_count": null,
      "outputs": [
        {
          "output_type": "stream",
          "name": "stdout",
          "text": [
            "a\n",
            "b\n",
            "c\n",
            "d\n",
            "e\n",
            "f\n",
            "g\n",
            "h\n",
            "i\n",
            "j\n",
            "k\n",
            "l\n",
            "m\n",
            "n\n",
            "o\n",
            "p\n",
            "q\n",
            "r\n",
            "s\n",
            "t\n",
            "u\n",
            "v\n",
            "w\n",
            "x\n",
            "y\n",
            "z\n"
          ]
        }
      ]
    },
    {
      "cell_type": "code",
      "source": [
        "try:\n",
        "  x > 3\n",
        "except:\n",
        "  print(\"Oops\")\n",
        "else:\n",
        "  print(\"Nothing be happening here\")\n",
        "finally:\n",
        "  print(\"The try...except block is finished\")\n",
        "#finally is used after the try, except, and else blocks and trumps all previous blocks to end the execution"
      ],
      "metadata": {
        "colab": {
          "base_uri": "https://localhost:8080/"
        },
        "id": "TREKoWlSSbAE",
        "outputId": "ff027c3f-354b-45e4-c419-150556ca294f"
      },
      "execution_count": null,
      "outputs": [
        {
          "output_type": "stream",
          "name": "stdout",
          "text": [
            "Nothing be happening here\n",
            "The try...except block is finished\n"
          ]
        }
      ]
    },
    {
      "cell_type": "code",
      "source": [
        "from bestlibrary import stuff\n",
        "#from is used to import specific stuff from a module"
      ],
      "metadata": {
        "id": "1DIQ4jDnS6SX",
        "colab": {
          "base_uri": "https://localhost:8080/",
          "height": 314
        },
        "outputId": "dca4b81e-ff48-4563-ec6c-8d0a4b1cfd36"
      },
      "execution_count": 1,
      "outputs": [
        {
          "output_type": "error",
          "ename": "ModuleNotFoundError",
          "evalue": "No module named 'bestlibrary'",
          "traceback": [
            "\u001b[0;31m---------------------------------------------------------------------------\u001b[0m",
            "\u001b[0;31mModuleNotFoundError\u001b[0m                       Traceback (most recent call last)",
            "\u001b[0;32m<ipython-input-1-a941789c8680>\u001b[0m in \u001b[0;36m<cell line: 1>\u001b[0;34m()\u001b[0m\n\u001b[0;32m----> 1\u001b[0;31m \u001b[0;32mfrom\u001b[0m \u001b[0mbestlibrary\u001b[0m \u001b[0;32mimport\u001b[0m \u001b[0mstuff\u001b[0m\u001b[0;34m\u001b[0m\u001b[0;34m\u001b[0m\u001b[0m\n\u001b[0m",
            "\u001b[0;31mModuleNotFoundError\u001b[0m: No module named 'bestlibrary'",
            "",
            "\u001b[0;31m---------------------------------------------------------------------------\u001b[0;32m\nNOTE: If your import is failing due to a missing package, you can\nmanually install dependencies using either !pip or !apt.\n\nTo view examples of installing some common dependencies, click the\n\"Open Examples\" button below.\n\u001b[0;31m---------------------------------------------------------------------------\u001b[0m\n"
          ],
          "errorDetails": {
            "actions": [
              {
                "action": "open_url",
                "actionText": "Open Examples",
                "url": "/notebooks/snippets/importing_libraries.ipynb"
              }
            ]
          }
        }
      ]
    },
    {
      "cell_type": "code",
      "source": [
        "that = 10\n",
        "this = that\n",
        "if this:\n",
        "  print(that)\n",
        "#if is used as a boolean for determining whether or not something is True"
      ],
      "metadata": {
        "colab": {
          "base_uri": "https://localhost:8080/"
        },
        "id": "XiRUvLbqXnrU",
        "outputId": "a9729629-ca44-4703-8dda-25abe48279b8"
      },
      "execution_count": 2,
      "outputs": [
        {
          "output_type": "stream",
          "name": "stdout",
          "text": [
            "10\n"
          ]
        }
      ]
    },
    {
      "cell_type": "code",
      "source": [
        "global v\n",
        "v = 10\n",
        "#global makes a variable global to use anywhere, typically used in functions"
      ],
      "metadata": {
        "id": "jo-c0B6CX5Hp"
      },
      "execution_count": 3,
      "outputs": []
    },
    {
      "cell_type": "code",
      "source": [
        "y = ['stuff', 'other']\n",
        "print('stuff' in y)\n",
        "#in is used to determine if something is inside a variable"
      ],
      "metadata": {
        "colab": {
          "base_uri": "https://localhost:8080/"
        },
        "id": "BwqWccZHYBgd",
        "outputId": "a795dd90-1065-4847-e2a9-66b35217ea63"
      },
      "execution_count": 4,
      "outputs": [
        {
          "output_type": "stream",
          "name": "stdout",
          "text": [
            "True\n"
          ]
        }
      ]
    },
    {
      "cell_type": "code",
      "source": [
        "import math\n",
        "#import is used to quite literally, import libraries into python to use"
      ],
      "metadata": {
        "id": "rwJGft9aYZhH"
      },
      "execution_count": 6,
      "outputs": []
    },
    {
      "cell_type": "code",
      "source": [
        "x = lambda y : y * 20\n",
        "print(x(5))\n",
        "#lambda is like a mini function, it can take arguments and produce a result like a function"
      ],
      "metadata": {
        "colab": {
          "base_uri": "https://localhost:8080/"
        },
        "id": "20IU8yOrZCVB",
        "outputId": "a83ad218-7518-4775-c236-42819cf45dc9"
      },
      "execution_count": 8,
      "outputs": [
        {
          "output_type": "stream",
          "name": "stdout",
          "text": [
            "100\n"
          ]
        }
      ]
    },
    {
      "cell_type": "code",
      "source": [
        "x = ['stuff']\n",
        "y = x\n",
        "print(x is y)\n",
        "#is is used to determine if two variables refer to the same object, in this case, a list"
      ],
      "metadata": {
        "colab": {
          "base_uri": "https://localhost:8080/"
        },
        "id": "tOvqobj_ZKDw",
        "outputId": "23d5f8c9-f420-4d84-faab-1fab1349b814"
      },
      "execution_count": 10,
      "outputs": [
        {
          "output_type": "stream",
          "name": "stdout",
          "text": [
            "True\n"
          ]
        }
      ]
    },
    {
      "cell_type": "code",
      "source": [
        "def Stuff():\n",
        "  x = 'Stuffs'\n",
        "  def Stuff2():\n",
        "    nonlocal x\n",
        "    x = 'OtherStuffs'\n",
        "  Stuff2()\n",
        "  return x\n",
        "\n",
        "print(Stuff())\n",
        "#nonlocal is used in nested functions where a variable does not belong to the inner function"
      ],
      "metadata": {
        "colab": {
          "base_uri": "https://localhost:8080/"
        },
        "id": "gBbtaPexZfiU",
        "outputId": "6141d312-8ef6-42de-ac49-2a1bf4d0e6bf"
      },
      "execution_count": 13,
      "outputs": [
        {
          "output_type": "stream",
          "name": "stdout",
          "text": [
            "OtherStuffs\n"
          ]
        }
      ]
    },
    {
      "cell_type": "code",
      "source": [
        "x = True\n",
        "print(not x)\n",
        "#not takes a True variable and makes it False, or vice versa, used for boolean operations"
      ],
      "metadata": {
        "colab": {
          "base_uri": "https://localhost:8080/"
        },
        "id": "UrDavC4LZ_bV",
        "outputId": "f351e151-0bfd-4571-b651-30cc82f2f2c2"
      },
      "execution_count": 16,
      "outputs": [
        {
          "output_type": "stream",
          "name": "stdout",
          "text": [
            "False\n"
          ]
        }
      ]
    },
    {
      "cell_type": "code",
      "source": [
        "x = 6\n",
        "if x < 5 or x > 7:\n",
        "  print('x is larger or smaller than 6')\n",
        "else:\n",
        "  print('x is 6')\n",
        "#or is used for testing if at least one condition of a statement is true, like in this case"
      ],
      "metadata": {
        "colab": {
          "base_uri": "https://localhost:8080/"
        },
        "id": "xk8jZjssaUkm",
        "outputId": "b4580d3e-1ffb-405f-c9e2-9da8a2d04f16"
      },
      "execution_count": 19,
      "outputs": [
        {
          "output_type": "stream",
          "name": "stdout",
          "text": [
            "x is 6\n"
          ]
        }
      ]
    },
    {
      "cell_type": "code",
      "source": [
        "x = -10\n",
        "\n",
        "if x < 0:\n",
        "  raise Exception('x is too tiny')\n",
        "#raise is used to raise an error"
      ],
      "metadata": {
        "colab": {
          "base_uri": "https://localhost:8080/",
          "height": 176
        },
        "id": "QCI0oaDCanPt",
        "outputId": "bf514e35-75cd-4058-917a-033d87e07d1e"
      },
      "execution_count": 20,
      "outputs": [
        {
          "output_type": "error",
          "ename": "Exception",
          "evalue": "x is too tiny",
          "traceback": [
            "\u001b[0;31m---------------------------------------------------------------------------\u001b[0m",
            "\u001b[0;31mException\u001b[0m                                 Traceback (most recent call last)",
            "\u001b[0;32m<ipython-input-20-bb121c5a5e51>\u001b[0m in \u001b[0;36m<cell line: 3>\u001b[0;34m()\u001b[0m\n\u001b[1;32m      2\u001b[0m \u001b[0;34m\u001b[0m\u001b[0m\n\u001b[1;32m      3\u001b[0m \u001b[0;32mif\u001b[0m \u001b[0mx\u001b[0m \u001b[0;34m<\u001b[0m \u001b[0;36m0\u001b[0m\u001b[0;34m:\u001b[0m\u001b[0;34m\u001b[0m\u001b[0;34m\u001b[0m\u001b[0m\n\u001b[0;32m----> 4\u001b[0;31m   \u001b[0;32mraise\u001b[0m \u001b[0mException\u001b[0m\u001b[0;34m(\u001b[0m\u001b[0;34m'x is too tiny'\u001b[0m\u001b[0;34m)\u001b[0m\u001b[0;34m\u001b[0m\u001b[0;34m\u001b[0m\u001b[0m\n\u001b[0m",
            "\u001b[0;31mException\u001b[0m: x is too tiny"
          ]
        }
      ]
    },
    {
      "cell_type": "code",
      "source": [
        "for x in [10, 30, 50]:\n",
        "  pass\n",
        "#pass is mostly a placeholder, as it will never make an error occurred when used in a function, the downside is that nothing will happen because of it"
      ],
      "metadata": {
        "id": "tizWnGaibJoH"
      },
      "execution_count": 21,
      "outputs": []
    },
    {
      "cell_type": "code",
      "source": [
        "try:\n",
        "  print(g)\n",
        "except:\n",
        "  print('g does not exist')\n",
        "#try is used for testing code for errors"
      ],
      "metadata": {
        "colab": {
          "base_uri": "https://localhost:8080/"
        },
        "id": "Jx2s50-Mbahx",
        "outputId": "e3fcf84b-9b80-481d-e4e2-59b9d453d4c2"
      },
      "execution_count": 22,
      "outputs": [
        {
          "output_type": "stream",
          "name": "stdout",
          "text": [
            "g does not exist\n"
          ]
        }
      ]
    },
    {
      "cell_type": "code",
      "source": [
        "def functionfun(x):\n",
        "  g = x*2\n",
        "  return g\n",
        "#return is used for providing the result of a function, in this case, whatever we put in for x when the function is called, will return the result of x times 2"
      ],
      "metadata": {
        "id": "bdsyA43RbwsX"
      },
      "execution_count": 25,
      "outputs": []
    },
    {
      "cell_type": "code",
      "source": [
        "h = 1\n",
        "while h < 10:\n",
        "  print(h + 1)\n",
        "  h += 1\n",
        "#while is a loop that is active until the condition is met"
      ],
      "metadata": {
        "colab": {
          "base_uri": "https://localhost:8080/"
        },
        "id": "TaNw1i11cK8j",
        "outputId": "ab4a44ed-c4e3-4881-f64f-32e2cf80e659"
      },
      "execution_count": 27,
      "outputs": [
        {
          "output_type": "stream",
          "name": "stdout",
          "text": [
            "2\n",
            "3\n",
            "4\n",
            "5\n",
            "6\n",
            "7\n",
            "8\n",
            "9\n",
            "10\n"
          ]
        }
      ]
    },
    {
      "cell_type": "code",
      "source": [
        "with open('stuff.txt' ,'others') as file:\n",
        "  file.write('Stuff worked')\n",
        "#with is another way of doing the try except block"
      ],
      "metadata": {
        "colab": {
          "base_uri": "https://localhost:8080/",
          "height": 159
        },
        "id": "EPawQJYTcmcL",
        "outputId": "c25f1e6c-1520-44e4-f4f7-5928cfe37e7e"
      },
      "execution_count": 28,
      "outputs": [
        {
          "output_type": "error",
          "ename": "ValueError",
          "evalue": "invalid mode: 'others'",
          "traceback": [
            "\u001b[0;31m---------------------------------------------------------------------------\u001b[0m",
            "\u001b[0;31mValueError\u001b[0m                                Traceback (most recent call last)",
            "\u001b[0;32m<ipython-input-28-0c31082c5262>\u001b[0m in \u001b[0;36m<cell line: 1>\u001b[0;34m()\u001b[0m\n\u001b[0;32m----> 1\u001b[0;31m \u001b[0;32mwith\u001b[0m \u001b[0mopen\u001b[0m\u001b[0;34m(\u001b[0m\u001b[0;34m'stuff.txt'\u001b[0m \u001b[0;34m,\u001b[0m\u001b[0;34m'others'\u001b[0m\u001b[0;34m)\u001b[0m \u001b[0;32mas\u001b[0m \u001b[0mfile\u001b[0m\u001b[0;34m:\u001b[0m\u001b[0;34m\u001b[0m\u001b[0;34m\u001b[0m\u001b[0m\n\u001b[0m\u001b[1;32m      2\u001b[0m   \u001b[0mfile\u001b[0m\u001b[0;34m.\u001b[0m\u001b[0mwrite\u001b[0m\u001b[0;34m(\u001b[0m\u001b[0;34m'Stuff worked'\u001b[0m\u001b[0;34m)\u001b[0m\u001b[0;34m\u001b[0m\u001b[0;34m\u001b[0m\u001b[0m\n",
            "\u001b[0;31mValueError\u001b[0m: invalid mode: 'others'"
          ]
        }
      ]
    },
    {
      "cell_type": "code",
      "source": [
        "def Generator():\n",
        "  yield 10\n",
        "  yield 15\n",
        "\n",
        "for value in Generator():\n",
        "  print(value)\n",
        "#yield is used to return a sequence of values, as opposed to return, which will give only 1 value"
      ],
      "metadata": {
        "colab": {
          "base_uri": "https://localhost:8080/"
        },
        "id": "NrnRfsAueDgO",
        "outputId": "fd7b4209-aafe-495d-f096-ea3472723875"
      },
      "execution_count": 31,
      "outputs": [
        {
          "output_type": "stream",
          "name": "stdout",
          "text": [
            "10\n",
            "15\n"
          ]
        }
      ]
    },
    {
      "cell_type": "code",
      "source": [],
      "metadata": {
        "id": "6BS7XaUied1c"
      },
      "execution_count": null,
      "outputs": []
    }
  ]
}