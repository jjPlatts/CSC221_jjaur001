{
  "nbformat": 4,
  "nbformat_minor": 0,
  "metadata": {
    "colab": {
      "provenance": [],
      "authorship_tag": "ABX9TyNKjyDn1uuyMVaXZhWQPyU0",
      "include_colab_link": true
    },
    "kernelspec": {
      "name": "python3",
      "display_name": "Python 3"
    },
    "language_info": {
      "name": "python"
    }
  },
  "cells": [
    {
      "cell_type": "markdown",
      "metadata": {
        "id": "view-in-github",
        "colab_type": "text"
      },
      "source": [
        "<a href=\"https://colab.research.google.com/github/jjPlatts/CSC221_jjaur001/blob/main/Assignment6.ipynb\" target=\"_parent\"><img src=\"https://colab.research.google.com/assets/colab-badge.svg\" alt=\"Open In Colab\"/></a>"
      ]
    },
    {
      "cell_type": "code",
      "execution_count": null,
      "metadata": {
        "id": "btzYKp87mK33"
      },
      "outputs": [],
      "source": [
        "theBestManEver = {'First Name': 'John', 'Last Name': 'Wick', 'City': 'Byelorussia'}\n",
        "print(theBestManEver['First Name'])\n",
        "print(theBestManEver['Last Name'])\n",
        "print(theBestManEver['City'])\n",
        "\n",
        "\n",
        "\n",
        "peopleNumber = {'Steve': 8, 'Brent': 4, 'Jacques': 2, 'Ahmed': 6, 'Gilbert': 7}\n",
        "\n",
        "for key, value in peopleNumber.items():\n",
        "    print(key, ':', value)\n",
        "\n",
        "\n",
        "\n",
        "variDef = {'int': 'used to describe an integer',\n",
        "    'while': 'performs a loop when a value stays true',\n",
        "    'if': 'when a variable qualification is met, do this, otherwise, look at else',\n",
        "    'else': 'when the if function cannot be met, do this instead',\n",
        "    'and': 'do this with something else'}\n",
        "\n",
        "for key, value in variDef.items():\n",
        "    print(key,':','\\n',value)\n",
        "\n",
        "\n",
        "cities = {\n",
        "    'New York' : {\n",
        "    'country' : 'United States',\n",
        "    'population': '19.84 million people',\n",
        "    'fact': 'is known as \"The Big Apple\"'\n",
        "    },\n",
        "\n",
        "    'Paris' : {\n",
        "    'country' : 'France',\n",
        "    'population': '2.161 million people',\n",
        "    'fact': 'Known for it\\'s romantical settings'\n",
        "    },\n",
        "\n",
        "    'Frankfurt' : {\n",
        "    'country' : 'Germany',\n",
        "    'population': '753,056 people',\n",
        "    'fact': 'Named by Charlemagne'\n",
        "    },\n",
        "}\n",
        "\n",
        "for key, value in cities.items():\n",
        "    print(key)\n",
        "    cityCountry = value['country']\n",
        "    cityPop = value['population']\n",
        "    cityFact = value['fact']\n",
        "    print(cityCountry,\",\", cityPop,\",\", cityFact)\n",
        "\n"
      ]
    }
  ]
}