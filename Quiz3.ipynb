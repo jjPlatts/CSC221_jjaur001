{
  "nbformat": 4,
  "nbformat_minor": 0,
  "metadata": {
    "colab": {
      "provenance": [],
      "authorship_tag": "ABX9TyPoVOjxe/HW/uaLe9DmwTy9",
      "include_colab_link": true
    },
    "kernelspec": {
      "name": "python3",
      "display_name": "Python 3"
    },
    "language_info": {
      "name": "python"
    }
  },
  "cells": [
    {
      "cell_type": "markdown",
      "metadata": {
        "id": "view-in-github",
        "colab_type": "text"
      },
      "source": [
        "<a href=\"https://colab.research.google.com/github/jjPlatts/CSC221_jjaur001/blob/main/Quiz3.ipynb\" target=\"_parent\"><img src=\"https://colab.research.google.com/assets/colab-badge.svg\" alt=\"Open In Colab\"/></a>"
      ]
    },
    {
      "cell_type": "code",
      "execution_count": 1,
      "metadata": {
        "colab": {
          "base_uri": "https://localhost:8080/"
        },
        "id": "H81tyuKvvrlk",
        "outputId": "006f85c4-5003-4824-c736-c7172df03f4f"
      },
      "outputs": [
        {
          "output_type": "stream",
          "name": "stdout",
          "text": [
            "123\n"
          ]
        }
      ],
      "source": [
        "print('123')\n",
        "#the print function will send whatever it is given to the terminal as a readable line of text"
      ]
    },
    {
      "cell_type": "code",
      "source": [
        "input()\n",
        "#input is a function that allows the user to type into the terminal for that function, this can be used as a way for the user to interact with a program based on the input"
      ],
      "metadata": {
        "colab": {
          "base_uri": "https://localhost:8080/",
          "height": 53
        },
        "id": "UXRToZs7v0RN",
        "outputId": "ec633b35-9a02-4284-ced7-e6283e62bd50"
      },
      "execution_count": 2,
      "outputs": [
        {
          "name": "stdout",
          "output_type": "stream",
          "text": [
            "Stuff\n"
          ]
        },
        {
          "output_type": "execute_result",
          "data": {
            "text/plain": [
              "'Stuff'"
            ],
            "application/vnd.google.colaboratory.intrinsic+json": {
              "type": "string"
            }
          },
          "metadata": {},
          "execution_count": 2
        }
      ]
    },
    {
      "cell_type": "code",
      "source": [
        "x = 123.23\n",
        "int(x)\n",
        "#int is used to get the integer value of a variable, rounding the decimal places"
      ],
      "metadata": {
        "colab": {
          "base_uri": "https://localhost:8080/"
        },
        "id": "jRuH-sjFwZOz",
        "outputId": "74408dea-a74b-4c0e-b904-3cf53b8a807d"
      },
      "execution_count": 6,
      "outputs": [
        {
          "output_type": "execute_result",
          "data": {
            "text/plain": [
              "123"
            ]
          },
          "metadata": {},
          "execution_count": 6
        }
      ]
    },
    {
      "cell_type": "code",
      "source": [
        "x = ['stuff', 'other', 'more stuff']\n",
        "len(x)\n",
        "#len returns the number of items in a list"
      ],
      "metadata": {
        "colab": {
          "base_uri": "https://localhost:8080/"
        },
        "id": "RTQVLyuVw3Za",
        "outputId": "e1caf618-40bf-479e-c2b2-7594e90638d8"
      },
      "execution_count": 9,
      "outputs": [
        {
          "output_type": "execute_result",
          "data": {
            "text/plain": [
              "3"
            ]
          },
          "metadata": {},
          "execution_count": 9
        }
      ]
    },
    {
      "cell_type": "code",
      "source": [
        "x = str(7.5)\n",
        "print(x)\n",
        "#str is used to convert values into strings"
      ],
      "metadata": {
        "colab": {
          "base_uri": "https://localhost:8080/"
        },
        "id": "7V0uFvs1xTU1",
        "outputId": "6f2cf8b8-7920-462e-c35d-ba645b1f6470"
      },
      "execution_count": 12,
      "outputs": [
        {
          "output_type": "stream",
          "name": "stdout",
          "text": [
            "7.5\n"
          ]
        }
      ]
    },
    {
      "cell_type": "code",
      "source": [
        "f = open(\"stuff.txt\", 'w')\n",
        "print(f)\n",
        "#open is used to open a file then return it as an object"
      ],
      "metadata": {
        "colab": {
          "base_uri": "https://localhost:8080/"
        },
        "id": "lD7k56nhxmoH",
        "outputId": "e97c252a-c9e3-4af1-cc10-84fc00fb5f72"
      },
      "execution_count": 13,
      "outputs": [
        {
          "output_type": "stream",
          "name": "stdout",
          "text": [
            "<_io.TextIOWrapper name='stuff.txt' mode='w' encoding='UTF-8'>\n"
          ]
        }
      ]
    },
    {
      "cell_type": "code",
      "source": [
        "x = bool(1)\n",
        "print(x)\n",
        "#bool is used to check the boolean of an object"
      ],
      "metadata": {
        "colab": {
          "base_uri": "https://localhost:8080/"
        },
        "id": "wZ3nRb6Gx9qD",
        "outputId": "461e478f-240e-45ba-c8c5-e167264b34e9"
      },
      "execution_count": 16,
      "outputs": [
        {
          "output_type": "stream",
          "name": "stdout",
          "text": [
            "True\n"
          ]
        }
      ]
    },
    {
      "cell_type": "code",
      "source": [
        "x = list(('stuff', 'other', 'more stuff'))\n",
        "print(x)\n",
        "#list is used to make a list, though using brackets is more convienent to do this"
      ],
      "metadata": {
        "colab": {
          "base_uri": "https://localhost:8080/"
        },
        "id": "JUFMjfw7yEbu",
        "outputId": "aadfd6d1-bd21-4d02-8350-df203c6c9e3c"
      },
      "execution_count": 18,
      "outputs": [
        {
          "output_type": "stream",
          "name": "stdout",
          "text": [
            "['stuff', 'other', 'more stuff']\n"
          ]
        }
      ]
    },
    {
      "cell_type": "code",
      "source": [
        "x = (1,2,3,4,5,6,7,8,9,10)\n",
        "sum(x)\n",
        "#sum is used to to add all the items in an iterable, and returns it"
      ],
      "metadata": {
        "colab": {
          "base_uri": "https://localhost:8080/"
        },
        "id": "7IUb5xmNylFE",
        "outputId": "5d9d3c34-5aca-480b-dd90-4074fb3a5137"
      },
      "execution_count": 19,
      "outputs": [
        {
          "output_type": "execute_result",
          "data": {
            "text/plain": [
              "55"
            ]
          },
          "metadata": {},
          "execution_count": 19
        }
      ]
    },
    {
      "cell_type": "code",
      "source": [
        "min(x)\n",
        "#min is used to return the lowest number in an iterable"
      ],
      "metadata": {
        "colab": {
          "base_uri": "https://localhost:8080/"
        },
        "id": "vjxTqgaUy0lw",
        "outputId": "8fdb79a4-89be-47b3-c89f-18c6ec67b602"
      },
      "execution_count": 20,
      "outputs": [
        {
          "output_type": "execute_result",
          "data": {
            "text/plain": [
              "1"
            ]
          },
          "metadata": {},
          "execution_count": 20
        }
      ]
    },
    {
      "cell_type": "code",
      "source": [
        "max(x)\n",
        "#max is used to return the largest number in an iterable"
      ],
      "metadata": {
        "colab": {
          "base_uri": "https://localhost:8080/"
        },
        "id": "ZJwUyckmzJYb",
        "outputId": "b03aea75-7c1b-49ca-ffb2-eb5cdefdb3ce"
      },
      "execution_count": 21,
      "outputs": [
        {
          "output_type": "execute_result",
          "data": {
            "text/plain": [
              "10"
            ]
          },
          "metadata": {},
          "execution_count": 21
        }
      ]
    },
    {
      "cell_type": "code",
      "source": [
        "x = range(10)\n",
        "for n in x:\n",
        "  print(n)\n",
        "#range is used for creating a sequence of numbers, based on what is in the argument"
      ],
      "metadata": {
        "colab": {
          "base_uri": "https://localhost:8080/"
        },
        "id": "5sGQzKqZzO98",
        "outputId": "1e7783a5-3c25-4567-b741-68b1bbb0f364"
      },
      "execution_count": 23,
      "outputs": [
        {
          "output_type": "stream",
          "name": "stdout",
          "text": [
            "0\n",
            "1\n",
            "2\n",
            "3\n",
            "4\n",
            "5\n",
            "6\n",
            "7\n",
            "8\n",
            "9\n"
          ]
        }
      ]
    },
    {
      "cell_type": "code",
      "source": [
        "x = round(5.5)\n",
        "print(x)\n",
        "#round takes a float and rounds it to the nearest integer"
      ],
      "metadata": {
        "colab": {
          "base_uri": "https://localhost:8080/"
        },
        "id": "lvYlQiqszoN6",
        "outputId": "310d4e91-64cf-4715-f2c4-07bf8f73847c"
      },
      "execution_count": 24,
      "outputs": [
        {
          "output_type": "stream",
          "name": "stdout",
          "text": [
            "6\n"
          ]
        }
      ]
    },
    {
      "cell_type": "code",
      "source": [
        "def TheBestFunction(p):\n",
        "  return p**2\n",
        "\n",
        "num = (1, 15, 20, 2000)\n",
        "result = map(TheBestFunction, num)\n",
        "print(list(result))\n",
        "#map takes a function and a list and runs the list through the function"
      ],
      "metadata": {
        "colab": {
          "base_uri": "https://localhost:8080/"
        },
        "id": "mh2XBMFw0fpH",
        "outputId": "cfae0b4b-c353-4eb0-8b49-f0e21b6233fa"
      },
      "execution_count": 26,
      "outputs": [
        {
          "output_type": "stream",
          "name": "stdout",
          "text": [
            "[1, 225, 400, 4000000]\n"
          ]
        }
      ]
    },
    {
      "cell_type": "code",
      "source": [
        "x = divmod(1000, 3)\n",
        "print(x)\n",
        "#divmod takes a dividend and a divisor and returns the quotient and remainder"
      ],
      "metadata": {
        "colab": {
          "base_uri": "https://localhost:8080/"
        },
        "id": "YwKs-hTo1P0F",
        "outputId": "f803200d-4fd5-4953-ad92-b31538146b4a"
      },
      "execution_count": 27,
      "outputs": [
        {
          "output_type": "stream",
          "name": "stdout",
          "text": [
            "(333, 1)\n"
          ]
        }
      ]
    },
    {
      "cell_type": "code",
      "source": [
        "x = 'print(67)'\n",
        "eval(x)\n",
        "#eval does python in python"
      ],
      "metadata": {
        "colab": {
          "base_uri": "https://localhost:8080/"
        },
        "id": "mgWJvowa1pBM",
        "outputId": "e0e28eaf-b1b4-4852-ccdc-d7bec9082d9d"
      },
      "execution_count": 29,
      "outputs": [
        {
          "output_type": "stream",
          "name": "stdout",
          "text": [
            "67\n"
          ]
        }
      ]
    },
    {
      "cell_type": "code",
      "source": [
        "x = float(2)\n",
        "print(x)\n",
        "#float converts the input to a float"
      ],
      "metadata": {
        "colab": {
          "base_uri": "https://localhost:8080/"
        },
        "id": "gYOXohXw2UY3",
        "outputId": "0e57acfa-dbc0-4e4f-8c56-e1f992d2c303"
      },
      "execution_count": 30,
      "outputs": [
        {
          "output_type": "stream",
          "name": "stdout",
          "text": [
            "2.0\n"
          ]
        }
      ]
    },
    {
      "cell_type": "code",
      "source": [
        "x = abs(7.3)\n",
        "print(x)\n",
        "#abs gives the absolute value of a number"
      ],
      "metadata": {
        "colab": {
          "base_uri": "https://localhost:8080/"
        },
        "id": "J0V0veMR29gJ",
        "outputId": "9573bb3f-6242-4372-961f-6b251c6dc865"
      },
      "execution_count": 31,
      "outputs": [
        {
          "output_type": "stream",
          "name": "stdout",
          "text": [
            "7.3\n"
          ]
        }
      ]
    },
    {
      "cell_type": "code",
      "source": [
        "type(x)\n",
        "#type returns the type of a variable (i.e float, integer, string)"
      ],
      "metadata": {
        "colab": {
          "base_uri": "https://localhost:8080/"
        },
        "id": "boViFfOA3F0w",
        "outputId": "75485e08-c678-4fe4-c750-9bcd0fb4e42a"
      },
      "execution_count": 32,
      "outputs": [
        {
          "output_type": "execute_result",
          "data": {
            "text/plain": [
              "float"
            ]
          },
          "metadata": {},
          "execution_count": 32
        }
      ]
    },
    {
      "cell_type": "code",
      "source": [
        "pow(5, 6)\n",
        "#pow returns the first variable to the second variable power"
      ],
      "metadata": {
        "colab": {
          "base_uri": "https://localhost:8080/"
        },
        "id": "lNlXTgP33Nkh",
        "outputId": "c421acb4-8f84-48ae-a74d-069e188f40c3"
      },
      "execution_count": 34,
      "outputs": [
        {
          "output_type": "execute_result",
          "data": {
            "text/plain": [
              "15625"
            ]
          },
          "metadata": {},
          "execution_count": 34
        }
      ]
    },
    {
      "cell_type": "code",
      "source": [],
      "metadata": {
        "id": "wODZ2Up-3be5"
      },
      "execution_count": null,
      "outputs": []
    }
  ]
}